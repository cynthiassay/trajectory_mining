{
 "cells": [
  {
   "cell_type": "markdown",
   "metadata": {},
   "source": [
    "# python 坐标的网格化处理\n",
    "    输入：坐标经纬度，网格的行数和列数  \n",
    "    输出：坐标的网格区域ID  "
   ]
  },
  {
   "cell_type": "code",
   "execution_count": 1,
   "metadata": {},
   "outputs": [],
   "source": [
    "import pandas as pd\n",
    "import random"
   ]
  },
  {
   "cell_type": "code",
   "execution_count": 2,
   "metadata": {},
   "outputs": [],
   "source": [
    "# 区域范围\n",
    "LON1 = 121.4135 \n",
    "LON2 = 121.4176\n",
    "LAT1 = 31.2165\n",
    "LAT2 = 31.3233"
   ]
  },
  {
   "cell_type": "code",
   "execution_count": 3,
   "metadata": {},
   "outputs": [],
   "source": [
    "# 随机生成100个范围内的坐标点\n",
    "lon =[] \n",
    "lat =[] \n",
    "for i in range(100):\n",
    "    lon.append(round(random.uniform(LON1, LON2), 4))\n",
    "    lat.append(round(random.uniform(LAT1, LAT2), 4))\n",
    "c={\"lon\":lon,\n",
    "   'lat':lat} \n",
    "data= pd.DataFrame(c)"
   ]
  },
  {
   "cell_type": "code",
   "execution_count": 4,
   "metadata": {},
   "outputs": [],
   "source": [
    "# 使用矩阵分隔网格\n",
    "# 生成网格ID column_num等于列数，row_num等于行数\n",
    "def generalID(lon,lat,column_num,row_num):\n",
    "    # 若在范围外的点，返回-1\n",
    "    if lon <= LON1 or lon >= LON2 or lat <= LAT1 or lat >= LAT2:\n",
    "        return -1\n",
    "    # 把经度范围根据列数等分切割\n",
    "    column = (LON2 - LON1)/column_num\n",
    "    # 把纬度范围根据行数数等分切割\n",
    "    row = (LAT2 - LAT1)/row_num\n",
    "    # 得到二维矩阵坐标索引，并转换为一维ID，即： 列坐标区域（向下取整）+ 1 + 行坐标区域 * 列数\n",
    "    return int((lon-LON1)/column)+ 1 + int((lat-LAT1)/row) * column_num"
   ]
  },
  {
   "cell_type": "code",
   "execution_count": 5,
   "metadata": {},
   "outputs": [],
   "source": [
    "## 使用 4 X 4 划分\n",
    "data['label'] = data.apply(lambda x: generalID(x['lon'], x['lat'],4,4), axis = 1)"
   ]
  },
  {
   "cell_type": "code",
   "execution_count": 6,
   "metadata": {},
   "outputs": [
    {
     "data": {
      "text/html": [
       "<div>\n",
       "<style scoped>\n",
       "    .dataframe tbody tr th:only-of-type {\n",
       "        vertical-align: middle;\n",
       "    }\n",
       "\n",
       "    .dataframe tbody tr th {\n",
       "        vertical-align: top;\n",
       "    }\n",
       "\n",
       "    .dataframe thead th {\n",
       "        text-align: right;\n",
       "    }\n",
       "</style>\n",
       "<table border=\"1\" class=\"dataframe\">\n",
       "  <thead>\n",
       "    <tr style=\"text-align: right;\">\n",
       "      <th></th>\n",
       "      <th>lon</th>\n",
       "      <th>lat</th>\n",
       "      <th>label</th>\n",
       "    </tr>\n",
       "  </thead>\n",
       "  <tbody>\n",
       "    <tr>\n",
       "      <th>0</th>\n",
       "      <td>121.4174</td>\n",
       "      <td>31.2385</td>\n",
       "      <td>4</td>\n",
       "    </tr>\n",
       "    <tr>\n",
       "      <th>1</th>\n",
       "      <td>121.4166</td>\n",
       "      <td>31.2666</td>\n",
       "      <td>8</td>\n",
       "    </tr>\n",
       "    <tr>\n",
       "      <th>2</th>\n",
       "      <td>121.4136</td>\n",
       "      <td>31.2204</td>\n",
       "      <td>1</td>\n",
       "    </tr>\n",
       "    <tr>\n",
       "      <th>3</th>\n",
       "      <td>121.4141</td>\n",
       "      <td>31.2802</td>\n",
       "      <td>9</td>\n",
       "    </tr>\n",
       "    <tr>\n",
       "      <th>4</th>\n",
       "      <td>121.4156</td>\n",
       "      <td>31.2852</td>\n",
       "      <td>11</td>\n",
       "    </tr>\n",
       "    <tr>\n",
       "      <th>5</th>\n",
       "      <td>121.4136</td>\n",
       "      <td>31.2403</td>\n",
       "      <td>1</td>\n",
       "    </tr>\n",
       "    <tr>\n",
       "      <th>6</th>\n",
       "      <td>121.4141</td>\n",
       "      <td>31.2948</td>\n",
       "      <td>9</td>\n",
       "    </tr>\n",
       "    <tr>\n",
       "      <th>7</th>\n",
       "      <td>121.4149</td>\n",
       "      <td>31.2773</td>\n",
       "      <td>10</td>\n",
       "    </tr>\n",
       "    <tr>\n",
       "      <th>8</th>\n",
       "      <td>121.4154</td>\n",
       "      <td>31.2559</td>\n",
       "      <td>6</td>\n",
       "    </tr>\n",
       "    <tr>\n",
       "      <th>9</th>\n",
       "      <td>121.4161</td>\n",
       "      <td>31.2560</td>\n",
       "      <td>7</td>\n",
       "    </tr>\n",
       "  </tbody>\n",
       "</table>\n",
       "</div>"
      ],
      "text/plain": [
       "        lon      lat  label\n",
       "0  121.4174  31.2385      4\n",
       "1  121.4166  31.2666      8\n",
       "2  121.4136  31.2204      1\n",
       "3  121.4141  31.2802      9\n",
       "4  121.4156  31.2852     11\n",
       "5  121.4136  31.2403      1\n",
       "6  121.4141  31.2948      9\n",
       "7  121.4149  31.2773     10\n",
       "8  121.4154  31.2559      6\n",
       "9  121.4161  31.2560      7"
      ]
     },
     "execution_count": 6,
     "metadata": {},
     "output_type": "execute_result"
    }
   ],
   "source": [
    "data.head(10)"
   ]
  }
 ],
 "metadata": {
  "kernelspec": {
   "display_name": "Python 3",
   "language": "python",
   "name": "python3"
  },
  "language_info": {
   "codemirror_mode": {
    "name": "ipython",
    "version": 3
   },
   "file_extension": ".py",
   "mimetype": "text/x-python",
   "name": "python",
   "nbconvert_exporter": "python",
   "pygments_lexer": "ipython3",
   "version": "3.6.7"
  },
  "toc": {
   "base_numbering": 1,
   "nav_menu": {},
   "number_sections": true,
   "sideBar": true,
   "skip_h1_title": false,
   "title_cell": "Table of Contents",
   "title_sidebar": "Contents",
   "toc_cell": false,
   "toc_position": {},
   "toc_section_display": true,
   "toc_window_display": false
  }
 },
 "nbformat": 4,
 "nbformat_minor": 2
}
